{
 "cells": [
  {
   "cell_type": "code",
   "execution_count": 4,
   "id": "7b4c0119-79c1-4dac-8c72-74f58fa87ea2",
   "metadata": {},
   "outputs": [
    {
     "name": "stdout",
     "output_type": "stream",
     "text": [
      "        Average MPG  Average Cylinders  Average Displacement  Average Horsepower  Average Weight  Average Acceleration\n",
      "origin                                                                                                                \n",
      "usa           20.08               6.25                245.90              119.05         3361.93                 15.03\n",
      "europe        27.89               4.16                109.14               80.56         2423.30                 16.79\n",
      "japan         30.45               4.10                102.71               79.84         2221.23                 16.17\n"
     ]
    }
   ],
   "source": [
    "import pandas as pd\n",
    "\n",
    "pd.set_option('display.max_columns', None)  \n",
    "pd.set_option('display.expand_frame_repr', False)\n",
    "pd.set_option('display.width', 0)\n",
    "\n",
    "df = pd.read_csv(\"Automobile.csv\")\n",
    "# Descriptive Statistic : Average MPG, Average Cylinders, Average Displacement, Average Horsepower, Average Weight, Average Acceleration Per Origin\n",
    "# Dataset\n",
    "# Group by 'origin' count values\n",
    "stats = df.groupby('origin').agg({\n",
    "    'mpg':'mean','cylinders':'mean','displacement':'mean','horsepower':'mean','weight':'mean','acceleration':'mean'\n",
    "})\n",
    "stats.columns = [\"Average MPG\",\"Average Cylinders\",\"Average Displacement\",\"Average Horsepower\",\"Average Weight\",\"Average Acceleration\"]\n",
    "\n",
    "# Round & Sorting\n",
    "stats = stats.round(2)\n",
    "stats = stats.sort_values(by=\"Average Weight\", ascending=False)\n",
    "\n",
    "print(stats)"
   ]
  },
  {
   "cell_type": "code",
   "execution_count": null,
   "id": "1e152a48-06c5-4c47-895f-58e1156f147c",
   "metadata": {},
   "outputs": [],
   "source": []
  }
 ],
 "metadata": {
  "kernelspec": {
   "display_name": "Python [conda env:base] *",
   "language": "python",
   "name": "conda-base-py"
  },
  "language_info": {
   "codemirror_mode": {
    "name": "ipython",
    "version": 3
   },
   "file_extension": ".py",
   "mimetype": "text/x-python",
   "name": "python",
   "nbconvert_exporter": "python",
   "pygments_lexer": "ipython3",
   "version": "3.12.7"
  }
 },
 "nbformat": 4,
 "nbformat_minor": 5
}
