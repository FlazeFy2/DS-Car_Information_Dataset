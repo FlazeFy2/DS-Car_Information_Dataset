{
 "cells": [
  {
   "cell_type": "code",
   "execution_count": 10,
   "id": "7b4c0119-79c1-4dac-8c72-74f58fa87ea2",
   "metadata": {},
   "outputs": [
    {
     "name": "stdout",
     "output_type": "stream",
     "text": [
      "        Average MPG  Average Cylinders  Average Displacement  Average Horsepower  Average Weight  Average Acceleration\n",
      "origin                                                                                                                \n",
      "usa           20.08               6.25                245.90              119.05         3361.93                 15.03\n",
      "europe        27.89               4.16                109.14               80.56         2423.30                 16.79\n",
      "japan         30.45               4.10                102.71               79.84         2221.23                 16.17\n",
      "\n",
      "\n",
      "            Average MPG  Average Cylinders  Average Displacement  Average Horsepower  Average Weight  Average Acceleration\n",
      "model_year                                                                                                                \n",
      "73                17.10               6.38                256.88              130.48         3419.02                 14.31\n",
      "70                17.69               6.76                281.41              147.83         3372.79                 12.95\n",
      "72                18.71               5.82                218.38              120.18         3237.71                 15.12\n",
      "75                20.27               5.60                205.53              101.07         3176.80                 16.05\n",
      "76                21.57               5.65                197.79              101.12         3078.74                 15.94\n",
      "79                25.09               5.83                206.69              101.21         3055.34                 15.81\n",
      "77                23.38               5.46                191.39              105.07         2997.36                 15.44\n",
      "71                21.25               5.57                209.75              107.04         2995.43                 15.14\n",
      "74                22.70               5.26                171.74               94.23         2877.93                 16.20\n",
      "78                24.06               5.36                177.81               99.69         2861.81                 15.81\n",
      "81                30.33               4.62                135.31               81.04         2522.93                 16.31\n",
      "82                31.71               4.19                128.87               81.47         2453.55                 16.64\n",
      "80                33.70               4.14                115.83               77.48         2436.66                 16.93\n",
      "\n",
      "\n"
     ]
    }
   ],
   "source": [
    "import pandas as pd\n",
    "\n",
    "pd.set_option('display.max_columns', None)  \n",
    "pd.set_option('display.expand_frame_repr', False)\n",
    "pd.set_option('display.width', 0)\n",
    "\n",
    "df = pd.read_csv(\"Automobile.csv\")\n",
    "# Descriptive Statistic : Average MPG, Average Cylinders, Average Displacement, Average Horsepower, Average Weight, Average Acceleration Per Origin and Model Year\n",
    "# Dataset\n",
    "target_col = ['origin','model_year']\n",
    "\n",
    "for dt in target_col:\n",
    "    stats = df.groupby(dt).agg({\n",
    "        'mpg':'mean','cylinders':'mean','displacement':'mean','horsepower':'mean','weight':'mean','acceleration':'mean'\n",
    "    })\n",
    "    stats.columns = [\"Average MPG\",\"Average Cylinders\",\"Average Displacement\",\"Average Horsepower\",\"Average Weight\",\"Average Acceleration\"]\n",
    "    \n",
    "    # Round & Sorting\n",
    "    stats = stats.round(2)\n",
    "    stats = stats.sort_values(by=\"Average Weight\", ascending=False)\n",
    "    \n",
    "    print(stats)\n",
    "    print(\"\\n\")"
   ]
  },
  {
   "cell_type": "code",
   "execution_count": null,
   "id": "b9768b5b-1217-49ec-a99e-9dd9df97cd63",
   "metadata": {},
   "outputs": [],
   "source": []
  }
 ],
 "metadata": {
  "kernelspec": {
   "display_name": "Python [conda env:base] *",
   "language": "python",
   "name": "conda-base-py"
  },
  "language_info": {
   "codemirror_mode": {
    "name": "ipython",
    "version": 3
   },
   "file_extension": ".py",
   "mimetype": "text/x-python",
   "name": "python",
   "nbconvert_exporter": "python",
   "pygments_lexer": "ipython3",
   "version": "3.12.7"
  }
 },
 "nbformat": 4,
 "nbformat_minor": 5
}
